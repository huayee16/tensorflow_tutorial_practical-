{
  "nbformat": 4,
  "nbformat_minor": 0,
  "metadata": {
    "colab": {
      "name": "mnist_CNN.ipynb",
      "provenance": [],
      "collapsed_sections": []
    },
    "kernelspec": {
      "name": "python3",
      "display_name": "Python 3"
    },
    "accelerator": "GPU"
  },
  "cells": [
    {
      "cell_type": "code",
      "metadata": {
        "id": "8Untz9jTqv7A"
      },
      "source": [
        "import numpy as np\n",
        "import tensorflow as tf\n",
        "import matplotlib.pylab as plt"
      ],
      "execution_count": 1,
      "outputs": []
    },
    {
      "cell_type": "code",
      "metadata": {
        "id": "Y-TwXdugwRrb",
        "colab": {
          "base_uri": "https://localhost:8080/"
        },
        "outputId": "a4f02b37-8e71-4bc3-b8e6-c03423c55356"
      },
      "source": [
        "NUM_CLASSES=10\n",
        "img_rows = 28\n",
        "img_cols = 28\n",
        "\n",
        "(x_train,y_train),(x_test,y_test) = tf.keras.datasets.mnist.load_data()\n",
        "x_train = x_train.reshape(x_train.shape[0],img_rows,img_cols,1)\n",
        "x_test = x_test.reshape(x_test.shape[0],img_rows,img_cols,1)\n",
        "x_train = x_train.astype('float32')/255.0\n",
        "x_test = x_test.astype('float32')/255.0\n",
        "y_train = tf.keras.utils.to_categorical(y_train,NUM_CLASSES)\n",
        "y_test = tf.keras.utils.to_categorical(y_test,NUM_CLASSES)\n",
        "\n"
      ],
      "execution_count": 2,
      "outputs": [
        {
          "output_type": "stream",
          "name": "stdout",
          "text": [
            "Downloading data from https://storage.googleapis.com/tensorflow/tf-keras-datasets/mnist.npz\n",
            "11493376/11490434 [==============================] - 0s 0us/step\n",
            "11501568/11490434 [==============================] - 0s 0us/step\n"
          ]
        }
      ]
    },
    {
      "cell_type": "code",
      "metadata": {
        "colab": {
          "base_uri": "https://localhost:8080/"
        },
        "id": "Mrq-8WE0EqMP",
        "outputId": "9bdb564e-2206-45ee-db8f-c9919b8a65e1"
      },
      "source": [
        "y_train.shape"
      ],
      "execution_count": 3,
      "outputs": [
        {
          "output_type": "execute_result",
          "data": {
            "text/plain": [
              "(60000, 10)"
            ]
          },
          "metadata": {},
          "execution_count": 3
        }
      ]
    },
    {
      "cell_type": "markdown",
      "metadata": {
        "id": "5Q35oNVDx0Nm"
      },
      "source": [
        "將X_train及X_test由原本三維轉為四維矩陣以符合CNN的格式\n",
        "除以255進行標準化\n",
        "y_train y_test轉為Onehot encoding"
      ]
    },
    {
      "cell_type": "code",
      "metadata": {
        "id": "5Q2AK3s0ytct"
      },
      "source": [
        "def load_model():\n",
        "  model = tf.keras.Sequential()\n",
        "  model.add(tf.keras.layers.Conv2D(32,kernel_size=(3,3),strides=(1,1),padding='same',input_shape=(img_rows,img_cols,1),activation='relu'))\n",
        "  model.add(tf.keras.layers.MaxPooling2D(pool_size=(2,2)))\n",
        "  model.add(tf.keras.layers.Conv2D(64,kernel_size=(3,3),activation='relu'))\n",
        "  model.add(tf.keras.layers.MaxPooling2D(pool_size=(2,2)))\n",
        "  model.add(tf.keras.layers.Conv2D(64,kernel_size=(3,3),activation='relu'))\n",
        "  model.add(tf.keras.layers.Dropout(0.5))\n",
        "\n",
        "  model.add(tf.keras.layers.Flatten())\n",
        "  model.add(tf.keras.layers.Dense(128,activation='relu'))\n",
        "  model.add(tf.keras.layers.Dense(128,activation='relu'))\n",
        "  model.add(tf.keras.layers.Dropout(0.5))\n",
        "  model.add(tf.keras.layers.Dense(NUM_CLASSES,activation='softmax'))\n",
        "  return model"
      ],
      "execution_count": 4,
      "outputs": []
    },
    {
      "cell_type": "code",
      "metadata": {
        "colab": {
          "base_uri": "https://localhost:8080/"
        },
        "id": "vA2_m4-c7uzk",
        "outputId": "bc0d84d6-13bf-4950-908e-f0767427330b"
      },
      "source": [
        "model = load_model()\n",
        "model.summary()   "
      ],
      "execution_count": 5,
      "outputs": [
        {
          "output_type": "stream",
          "name": "stdout",
          "text": [
            "Model: \"sequential\"\n",
            "_________________________________________________________________\n",
            " Layer (type)                Output Shape              Param #   \n",
            "=================================================================\n",
            " conv2d (Conv2D)             (None, 28, 28, 32)        320       \n",
            "                                                                 \n",
            " max_pooling2d (MaxPooling2D  (None, 14, 14, 32)       0         \n",
            " )                                                               \n",
            "                                                                 \n",
            " conv2d_1 (Conv2D)           (None, 12, 12, 64)        18496     \n",
            "                                                                 \n",
            " max_pooling2d_1 (MaxPooling  (None, 6, 6, 64)         0         \n",
            " 2D)                                                             \n",
            "                                                                 \n",
            " conv2d_2 (Conv2D)           (None, 4, 4, 64)          36928     \n",
            "                                                                 \n",
            " dropout (Dropout)           (None, 4, 4, 64)          0         \n",
            "                                                                 \n",
            " flatten (Flatten)           (None, 1024)              0         \n",
            "                                                                 \n",
            " dense (Dense)               (None, 128)               131200    \n",
            "                                                                 \n",
            " dense_1 (Dense)             (None, 128)               16512     \n",
            "                                                                 \n",
            " dropout_1 (Dropout)         (None, 128)               0         \n",
            "                                                                 \n",
            " dense_2 (Dense)             (None, 10)                1290      \n",
            "                                                                 \n",
            "=================================================================\n",
            "Total params: 204,746\n",
            "Trainable params: 204,746\n",
            "Non-trainable params: 0\n",
            "_________________________________________________________________\n"
          ]
        }
      ]
    },
    {
      "cell_type": "code",
      "metadata": {
        "id": "uq7nGJtP8SPO"
      },
      "source": [
        "#loss_function=tf.keras.losses.SparseCategoricalCrossentropy(from_logits=True)\n",
        "loss_function='categorical_crossentropy'\n",
        "batch_size=1000\n",
        "epochs=20\n",
        "model.compile(optimizer='adam',loss=loss_function,metrics=['accuracy'])"
      ],
      "execution_count": 6,
      "outputs": []
    },
    {
      "cell_type": "code",
      "metadata": {
        "colab": {
          "base_uri": "https://localhost:8080/"
        },
        "id": "VKWnoOHo5DHk",
        "outputId": "61320de2-223a-4ba0-bf46-3ca936b1133c"
      },
      "source": [
        "model.fit(x_train,y_train,batch_size=batch_size,epochs=epochs,shuffle=True)"
      ],
      "execution_count": 7,
      "outputs": [
        {
          "output_type": "stream",
          "name": "stdout",
          "text": [
            "Epoch 1/20\n",
            "60/60 [==============================] - 15s 44ms/step - loss: 0.9192 - accuracy: 0.6927\n",
            "Epoch 2/20\n",
            "60/60 [==============================] - 3s 43ms/step - loss: 0.2025 - accuracy: 0.9403\n",
            "Epoch 3/20\n",
            "60/60 [==============================] - 3s 43ms/step - loss: 0.1308 - accuracy: 0.9614\n",
            "Epoch 4/20\n",
            "60/60 [==============================] - 3s 43ms/step - loss: 0.0971 - accuracy: 0.9714\n",
            "Epoch 5/20\n",
            "60/60 [==============================] - 3s 44ms/step - loss: 0.0794 - accuracy: 0.9775\n",
            "Epoch 6/20\n",
            "60/60 [==============================] - 3s 44ms/step - loss: 0.0704 - accuracy: 0.9795\n",
            "Epoch 7/20\n",
            "60/60 [==============================] - 3s 43ms/step - loss: 0.0602 - accuracy: 0.9828\n",
            "Epoch 8/20\n",
            "60/60 [==============================] - 3s 44ms/step - loss: 0.0545 - accuracy: 0.9842\n",
            "Epoch 9/20\n",
            "60/60 [==============================] - 3s 44ms/step - loss: 0.0484 - accuracy: 0.9855\n",
            "Epoch 10/20\n",
            "60/60 [==============================] - 3s 44ms/step - loss: 0.0480 - accuracy: 0.9862\n",
            "Epoch 11/20\n",
            "60/60 [==============================] - 3s 43ms/step - loss: 0.0437 - accuracy: 0.9870\n",
            "Epoch 12/20\n",
            "60/60 [==============================] - 3s 44ms/step - loss: 0.0423 - accuracy: 0.9873\n",
            "Epoch 13/20\n",
            "60/60 [==============================] - 3s 44ms/step - loss: 0.0378 - accuracy: 0.9888\n",
            "Epoch 14/20\n",
            "60/60 [==============================] - 3s 44ms/step - loss: 0.0361 - accuracy: 0.9893\n",
            "Epoch 15/20\n",
            "60/60 [==============================] - 3s 43ms/step - loss: 0.0313 - accuracy: 0.9908\n",
            "Epoch 16/20\n",
            "60/60 [==============================] - 3s 44ms/step - loss: 0.0312 - accuracy: 0.9904\n",
            "Epoch 17/20\n",
            "60/60 [==============================] - 3s 43ms/step - loss: 0.0298 - accuracy: 0.9907\n",
            "Epoch 18/20\n",
            "60/60 [==============================] - 3s 43ms/step - loss: 0.0281 - accuracy: 0.9912\n",
            "Epoch 19/20\n",
            "60/60 [==============================] - 3s 43ms/step - loss: 0.0283 - accuracy: 0.9915\n",
            "Epoch 20/20\n",
            "60/60 [==============================] - 3s 43ms/step - loss: 0.0246 - accuracy: 0.9927\n"
          ]
        },
        {
          "output_type": "execute_result",
          "data": {
            "text/plain": [
              "<keras.callbacks.History at 0x7f03d00ac550>"
            ]
          },
          "metadata": {},
          "execution_count": 7
        }
      ]
    },
    {
      "cell_type": "code",
      "metadata": {
        "id": "16WINMzi-6XO",
        "colab": {
          "base_uri": "https://localhost:8080/"
        },
        "outputId": "cb0a7214-21cb-4b24-bbdb-edc734e76376"
      },
      "source": [
        "model.evaluate(x_test,  y_test, verbose=2)"
      ],
      "execution_count": 8,
      "outputs": [
        {
          "output_type": "stream",
          "name": "stdout",
          "text": [
            "313/313 - 1s - loss: 0.0212 - accuracy: 0.9934 - 1s/epoch - 5ms/step\n"
          ]
        },
        {
          "output_type": "execute_result",
          "data": {
            "text/plain": [
              "[0.021165993064641953, 0.993399977684021]"
            ]
          },
          "metadata": {},
          "execution_count": 8
        }
      ]
    },
    {
      "cell_type": "code",
      "metadata": {
        "id": "giTryPU2-8V2",
        "colab": {
          "base_uri": "https://localhost:8080/",
          "height": 138
        },
        "outputId": "3d68befb-0a7c-4e7e-b781-9c1425d8eeb2"
      },
      "source": [
        "TAG = np.array(['0','1','2','3','4','5','6','7','8','9'])\n",
        "preds = model.predict(x_test)\n",
        "preds_single = TAG[np.argmax(preds, axis = -1)]\n",
        "actual_single = TAG[np.argmax(y_test, axis = -1)]\n",
        "n_to_show = 10\n",
        "indices = np.random.choice(range(len(x_test)), n_to_show)\n",
        "fig = plt.figure(figsize=(15, 3))\n",
        "fig.subplots_adjust(hspace=0.4, wspace=0.4)\n",
        "for i, idx in enumerate(indices):\n",
        "  img = x_test[idx]\n",
        "  ax = fig.add_subplot(1, n_to_show, i+1)\n",
        "  ax.axis('off')\n",
        "  ax.text(0.5, -0.35, 'pred = ' + str(preds_single[idx]), fontsize=10, ha='center', transform=ax.transAxes)\n",
        "  ax.text(0.5, -0.7, 'act = ' + str(actual_single[idx]), fontsize=10, ha='center', transform=ax.transAxes)\n",
        "  ax.imshow(tf.squeeze(img))"
      ],
      "execution_count": 9,
      "outputs": [
        {
          "output_type": "display_data",
          "data": {
            "text/plain": [
              "<Figure size 1080x216 with 10 Axes>"
            ],
            "image/png": "[encoded data removed]"
          },
          "metadata": {
            "needs_background": "light"
          }
        }
      ]
    }
  ]
}