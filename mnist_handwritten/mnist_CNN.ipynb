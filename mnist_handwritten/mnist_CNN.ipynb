{
  "nbformat": 4,
  "nbformat_minor": 0,
  "metadata": {
    "colab": {
      "name": "mnist_CNN.ipynb",
      "provenance": [],
      "collapsed_sections": []
    },
    "kernelspec": {
      "name": "python3",
      "display_name": "Python 3"
    },
    "accelerator": "GPU"
  },
  "cells": [
    {
      "cell_type": "code",
      "metadata": {
        "id": "8Untz9jTqv7A"
      },
      "source": [
        "import numpy as np\n",
        "import tensorflow as tf\n",
        "import matplotlib.pylab as plt"
      ],
      "execution_count": null,
      "outputs": []
    },
    {
      "cell_type": "code",
      "metadata": {
        "id": "Y-TwXdugwRrb",
        "colab": {
          "base_uri": "https://localhost:8080/"
        },
        "outputId": "4f48c314-3fdb-4dd4-9349-f51736f3c140"
      },
      "source": [
        "NUM_CLASSES=10\n",
        "img_rows = 28\n",
        "img_cols = 28\n",
        "\n",
        "(x_train,y_train),(x_test,y_test) = tf.keras.datasets.mnist.load_data()\n",
        "x_train = x_train.reshape(x_train.shape[0],img_rows,img_cols,1)\n",
        "x_test = x_test.reshape(x_test.shape[0],img_rows,img_cols,1)\n",
        "x_train = x_train.astype('float32')/255.0\n",
        "x_test = x_test.astype('float32')/255.0\n",
        "y_train = tf.keras.utils.to_categorical(y_train,NUM_CLASSES)\n",
        "y_test = tf.keras.utils.to_categorical(y_test,NUM_CLASSES)\n",
        "\n"
      ],
      "execution_count": null,
      "outputs": [
        {
          "output_type": "stream",
          "text": [
            "Downloading data from https://storage.googleapis.com/tensorflow/tf-keras-datasets/mnist.npz\n",
            "11493376/11490434 [==============================] - 0s 0us/step\n"
          ],
          "name": "stdout"
        }
      ]
    },
    {
      "cell_type": "code",
      "metadata": {
        "colab": {
          "base_uri": "https://localhost:8080/"
        },
        "id": "Mrq-8WE0EqMP",
        "outputId": "17c506cc-4289-4638-9262-c1d3d13783c7"
      },
      "source": [
        "y_train.shape"
      ],
      "execution_count": null,
      "outputs": [
        {
          "output_type": "execute_result",
          "data": {
            "text/plain": [
              "(60000, 10)"
            ]
          },
          "metadata": {
            "tags": []
          },
          "execution_count": 3
        }
      ]
    },
    {
      "cell_type": "markdown",
      "metadata": {
        "id": "5Q35oNVDx0Nm"
      },
      "source": [
        "將X_train及X_test由原本三維轉為四維矩陣以符合CNN的格式\n",
        "除以255進行標準化\n",
        "y_train y_test轉為Onehot encoding"
      ]
    },
    {
      "cell_type": "code",
      "metadata": {
        "id": "5Q2AK3s0ytct"
      },
      "source": [
        "def load_model():\n",
        "  model = tf.keras.Sequential()\n",
        "  model.add(tf.keras.layers.Conv2D(32,kernel_size=(3,3),strides=(1,1),padding='same',input_shape=(img_rows,img_cols,1),activation='relu'))\n",
        "  model.add(tf.keras.layers.MaxPooling2D(pool_size=(2,2)))\n",
        "  model.add(tf.keras.layers.Conv2D(64,kernel_size=(3,3),activation='relu'))\n",
        "  model.add(tf.keras.layers.MaxPooling2D(pool_size=(2,2)))\n",
        "  model.add(tf.keras.layers.Conv2D(64,kernel_size=(3,3),activation='relu'))\n",
        "  model.add(tf.keras.layers.Dropout(0.5))\n",
        "\n",
        "  model.add(tf.keras.layers.Flatten())\n",
        "  model.add(tf.keras.layers.Dense(128,activation='relu'))\n",
        "  model.add(tf.keras.layers.Dense(128,activation='relu'))\n",
        "  model.add(tf.keras.layers.Dropout(0.5))\n",
        "  model.add(tf.keras.layers.Dense(NUM_CLASSES,activation='softmax'))\n",
        "  return model"
      ],
      "execution_count": null,
      "outputs": []
    },
    {
      "cell_type": "code",
      "metadata": {
        "colab": {
          "base_uri": "https://localhost:8080/"
        },
        "id": "vA2_m4-c7uzk",
        "outputId": "114e96eb-11a5-4e32-ffdd-f94c87267fb3"
      },
      "source": [
        "model = load_model()\n",
        "model.summary()   "
      ],
      "execution_count": null,
      "outputs": [
        {
          "output_type": "stream",
          "text": [
            "Model: \"sequential\"\n",
            "_________________________________________________________________\n",
            "Layer (type)                 Output Shape              Param #   \n",
            "=================================================================\n",
            "conv2d (Conv2D)              (None, 28, 28, 32)        320       \n",
            "_________________________________________________________________\n",
            "max_pooling2d (MaxPooling2D) (None, 14, 14, 32)        0         \n",
            "_________________________________________________________________\n",
            "conv2d_1 (Conv2D)            (None, 12, 12, 64)        18496     \n",
            "_________________________________________________________________\n",
            "max_pooling2d_1 (MaxPooling2 (None, 6, 6, 64)          0         \n",
            "_________________________________________________________________\n",
            "conv2d_2 (Conv2D)            (None, 4, 4, 64)          36928     \n",
            "_________________________________________________________________\n",
            "dropout (Dropout)            (None, 4, 4, 64)          0         \n",
            "_________________________________________________________________\n",
            "flatten (Flatten)            (None, 1024)              0         \n",
            "_________________________________________________________________\n",
            "dense (Dense)                (None, 128)               131200    \n",
            "_________________________________________________________________\n",
            "dense_1 (Dense)              (None, 128)               16512     \n",
            "_________________________________________________________________\n",
            "dropout_1 (Dropout)          (None, 128)               0         \n",
            "_________________________________________________________________\n",
            "dense_2 (Dense)              (None, 10)                1290      \n",
            "=================================================================\n",
            "Total params: 204,746\n",
            "Trainable params: 204,746\n",
            "Non-trainable params: 0\n",
            "_________________________________________________________________\n"
          ],
          "name": "stdout"
        }
      ]
    },
    {
      "cell_type": "code",
      "metadata": {
        "id": "uq7nGJtP8SPO"
      },
      "source": [
        "#loss_function=tf.keras.losses.SparseCategoricalCrossentropy(from_logits=True)\n",
        "loss_function='categorical_crossentropy'\n",
        "batch_size=1000\n",
        "epochs=20\n",
        "model.compile(optimizer='adam',loss=loss_function,metrics=['accuracy'])"
      ],
      "execution_count": null,
      "outputs": []
    },
    {
      "cell_type": "code",
      "metadata": {
        "colab": {
          "base_uri": "https://localhost:8080/"
        },
        "id": "VKWnoOHo5DHk",
        "outputId": "8fd35d4b-8d4a-4eb5-e3cd-5951bceefefc"
      },
      "source": [
        "model.fit(x_train,y_train,batch_size=batch_size,epochs=epochs,shuffle=True)"
      ],
      "execution_count": null,
      "outputs": [
        {
          "output_type": "stream",
          "text": [
            "Epoch 1/20\n",
            "60/60 [==============================] - 1s 13ms/step - loss: 0.9045 - accuracy: 0.7005\n",
            "Epoch 2/20\n",
            "60/60 [==============================] - 1s 13ms/step - loss: 0.2040 - accuracy: 0.9404\n",
            "Epoch 3/20\n",
            "60/60 [==============================] - 1s 13ms/step - loss: 0.1313 - accuracy: 0.9618\n",
            "Epoch 4/20\n",
            "60/60 [==============================] - 1s 12ms/step - loss: 0.1022 - accuracy: 0.9700\n",
            "Epoch 5/20\n",
            "60/60 [==============================] - 1s 13ms/step - loss: 0.0828 - accuracy: 0.9752\n",
            "Epoch 6/20\n",
            "60/60 [==============================] - 1s 13ms/step - loss: 0.0705 - accuracy: 0.9799\n",
            "Epoch 7/20\n",
            "60/60 [==============================] - 1s 13ms/step - loss: 0.0622 - accuracy: 0.9815\n",
            "Epoch 8/20\n",
            "60/60 [==============================] - 1s 12ms/step - loss: 0.0582 - accuracy: 0.9833\n",
            "Epoch 9/20\n",
            "60/60 [==============================] - 1s 13ms/step - loss: 0.0503 - accuracy: 0.9851\n",
            "Epoch 10/20\n",
            "60/60 [==============================] - 1s 13ms/step - loss: 0.0465 - accuracy: 0.9857\n",
            "Epoch 11/20\n",
            "60/60 [==============================] - 1s 12ms/step - loss: 0.0458 - accuracy: 0.9863\n",
            "Epoch 12/20\n",
            "60/60 [==============================] - 1s 13ms/step - loss: 0.0427 - accuracy: 0.9873\n",
            "Epoch 13/20\n",
            "60/60 [==============================] - 1s 12ms/step - loss: 0.0406 - accuracy: 0.9881\n",
            "Epoch 14/20\n",
            "60/60 [==============================] - 1s 12ms/step - loss: 0.0389 - accuracy: 0.9886\n",
            "Epoch 15/20\n",
            "60/60 [==============================] - 1s 12ms/step - loss: 0.0343 - accuracy: 0.9896\n",
            "Epoch 16/20\n",
            "60/60 [==============================] - 1s 13ms/step - loss: 0.0323 - accuracy: 0.9901\n",
            "Epoch 17/20\n",
            "60/60 [==============================] - 1s 12ms/step - loss: 0.0310 - accuracy: 0.9908\n",
            "Epoch 18/20\n",
            "60/60 [==============================] - 1s 12ms/step - loss: 0.0291 - accuracy: 0.9915\n",
            "Epoch 19/20\n",
            "60/60 [==============================] - 1s 12ms/step - loss: 0.0291 - accuracy: 0.9916\n",
            "Epoch 20/20\n",
            "60/60 [==============================] - 1s 12ms/step - loss: 0.0289 - accuracy: 0.9912\n"
          ],
          "name": "stdout"
        },
        {
          "output_type": "execute_result",
          "data": {
            "text/plain": [
              "<tensorflow.python.keras.callbacks.History at 0x7f3adef99410>"
            ]
          },
          "metadata": {
            "tags": []
          },
          "execution_count": 11
        }
      ]
    },
    {
      "cell_type": "code",
      "metadata": {
        "id": "16WINMzi-6XO",
        "colab": {
          "base_uri": "https://localhost:8080/"
        },
        "outputId": "3c870d09-64dc-46fa-ed57-b97ec5c33156"
      },
      "source": [
        "model.evaluate(x_test,  y_test, verbose=2)"
      ],
      "execution_count": null,
      "outputs": [
        {
          "output_type": "stream",
          "text": [
            "313/313 - 1s - loss: 0.0208 - accuracy: 0.9933\n"
          ],
          "name": "stdout"
        },
        {
          "output_type": "execute_result",
          "data": {
            "text/plain": [
              "[0.020809313282370567, 0.9933000206947327]"
            ]
          },
          "metadata": {
            "tags": []
          },
          "execution_count": 12
        }
      ]
    },
    {
      "cell_type": "code",
      "metadata": {
        "id": "giTryPU2-8V2"
      },
      "source": [
        "TAG = np.array(['0','1','2','3','4','5','6','7','8','9'])\n",
        "preds = model.predict(x_test)\n",
        "preds_single = TAG[np.argmax(preds, axis = -1)]\n",
        "actual_single = TAG[np.argmax(y_test, axis = -1)]\n",
        "n_to_show = 10\n",
        "indices = np.random.choice(range(len(x_test)), n_to_show)\n",
        "fig = plt.figure(figsize=(15, 3))\n",
        "fig.subplots_adjust(hspace=0.4, wspace=0.4)\n",
        "for i, idx in enumerate(indices):\n",
        "  img = x_test[idx]\n",
        "  ax = fig.add_subplot(1, n_to_show, i+1)\n",
        "  ax.axis('off')\n",
        "  ax.text(0.5, -0.35, 'pred = ' + str(preds_single[idx]), fontsize=10, ha='center', transform=ax.transAxes)\n",
        "  ax.text(0.5, -0.7, 'act = ' + str(actual_single[idx]), fontsize=10, ha='center', transform=ax.transAxes)\n",
        "  ax.imshow(tf.squeeze(img))"
      ],
      "execution_count": null,
      "outputs": []
    }
  ]
}