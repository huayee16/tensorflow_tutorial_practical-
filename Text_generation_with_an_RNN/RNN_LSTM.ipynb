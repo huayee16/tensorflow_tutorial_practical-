{
  "nbformat": 4,
  "nbformat_minor": 0,
  "metadata": {
    "colab": {
      "name": "RNN_LSTM",
      "provenance": []
    },
    "kernelspec": {
      "name": "python3",
      "display_name": "Python 3"
    },
    "language_info": {
      "name": "python"
    },
    "accelerator": "GPU"
  },
  "cells": [
    {
      "cell_type": "code",
      "metadata": {
        "id": "qRXDtCGEAGiu"
      },
      "source": [
        "import tensorflow as tf\n",
        "from tensorflow.keras.layers.experimental import preprocessing\n",
        "from tqdm import tqdm\n",
        "import matplotlib.pyplot as plt\n",
        "import numpy as np\n",
        "import os\n",
        "import time"
      ],
      "execution_count": null,
      "outputs": []
    },
    {
      "cell_type": "code",
      "metadata": {
        "colab": {
          "base_uri": "https://localhost:8080/"
        },
        "id": "MCjm0S1jp-mo",
        "outputId": "2b8a570e-ba78-4a59-f09e-a62a9595c41e"
      },
      "source": [
        "path_to_file = tf.keras.utils.get_file('shakespeare.txt', 'https://storage.googleapis.com/download.tensorflow.org/data/shakespeare.txt')"
      ],
      "execution_count": null,
      "outputs": [
        {
          "output_type": "stream",
          "text": [
            "Downloading data from https://storage.googleapis.com/download.tensorflow.org/data/shakespeare.txt\n",
            "1122304/1115394 [==============================] - 0s 0us/step\n"
          ],
          "name": "stdout"
        }
      ]
    },
    {
      "cell_type": "code",
      "metadata": {
        "colab": {
          "base_uri": "https://localhost:8080/"
        },
        "id": "aDoov89aqBWB",
        "outputId": "8e0bceb4-091a-47fb-ed28-2f8f753c3454"
      },
      "source": [
        "# Read, then decode for py2 compat.\n",
        "text = open(path_to_file, 'rb').read().decode(encoding='utf-8')\n",
        "# length of text is the number of characters in it\n",
        "print(f'Length of text: {len(text)} characters')\n",
        "# Take a look at the first 250 characters in text\n",
        "print(text[:250])"
      ],
      "execution_count": null,
      "outputs": [
        {
          "output_type": "stream",
          "text": [
            "Length of text: 1115394 characters\n",
            "First Citizen:\n",
            "Before we proceed any further, hear me speak.\n",
            "\n",
            "All:\n",
            "Speak, speak.\n",
            "\n",
            "First Citizen:\n",
            "You are all resolved rather to die than to famish?\n",
            "\n",
            "All:\n",
            "Resolved. resolved.\n",
            "\n",
            "First Citizen:\n",
            "First, you know Caius Marcius is chief enemy to the people.\n",
            "\n"
          ],
          "name": "stdout"
        }
      ]
    },
    {
      "cell_type": "code",
      "metadata": {
        "colab": {
          "base_uri": "https://localhost:8080/"
        },
        "id": "w3v1Ti8Bqc-L",
        "outputId": "b07fe51e-0d29-4030-ca8f-232d0c371555"
      },
      "source": [
        "# The unique characters in the file\n",
        "vocab = sorted(set(text))\n",
        "print(f'{len(vocab)} unique characters')"
      ],
      "execution_count": null,
      "outputs": [
        {
          "output_type": "stream",
          "text": [
            "65 unique characters\n"
          ],
          "name": "stdout"
        }
      ]
    },
    {
      "cell_type": "code",
      "metadata": {
        "id": "5mA5NjDHPIVd"
      },
      "source": [
        "chars2id={char:index for index, char in enumerate(vocab)}\n",
        "  \n",
        "id2chars=np.array(vocab)\n"
      ],
      "execution_count": null,
      "outputs": []
    },
    {
      "cell_type": "code",
      "metadata": {
        "id": "0mPjpSU3q-tN"
      },
      "source": [
        "def tesx2int(text):\n",
        "  return np.array([chars2id[char] for char in text])\n",
        "def int2text(_int):\n",
        "  return ''.join(id2chars[_int])"
      ],
      "execution_count": null,
      "outputs": []
    },
    {
      "cell_type": "code",
      "metadata": {
        "id": "200-o5smufYy"
      },
      "source": [
        "alltext2int = tesx2int(text)\n",
        "alltext2int_dataset = tf.data.Dataset.from_tensor_slices(alltext2int)"
      ],
      "execution_count": null,
      "outputs": []
    },
    {
      "cell_type": "code",
      "metadata": {
        "colab": {
          "base_uri": "https://localhost:8080/"
        },
        "id": "10ecpfXP7d2j",
        "outputId": "f8647d30-4809-4414-a4cd-680b01aa23c8"
      },
      "source": [
        "for i in alltext2int_dataset.take(10):\n",
        "  print(id2chars[i])"
      ],
      "execution_count": null,
      "outputs": [
        {
          "output_type": "stream",
          "text": [
            "F\n",
            "i\n",
            "r\n",
            "s\n",
            "t\n",
            " \n",
            "C\n",
            "i\n",
            "t\n",
            "i\n"
          ],
          "name": "stdout"
        }
      ]
    },
    {
      "cell_type": "code",
      "metadata": {
        "colab": {
          "base_uri": "https://localhost:8080/"
        },
        "id": "u6coMCGlXFzU",
        "outputId": "cd432a0b-c4e6-4a94-807a-1713d1b884ab"
      },
      "source": [
        "seq_length = 100\n",
        "per_epoch = len(text)//(seq_length+1)\n",
        "sequences = alltext2int_dataset.batch(seq_length+1, drop_remainder=True)\n",
        "\n",
        "for seq in sequences.take(1):\n",
        "  print(id2chars[seq])\n",
        "for seq in sequences.take(2):\n",
        "  print(int2text(seq))"
      ],
      "execution_count": null,
      "outputs": [
        {
          "output_type": "stream",
          "text": [
            "['F' 'i' 'r' 's' 't' ' ' 'C' 'i' 't' 'i' 'z' 'e' 'n' ':' '\\n' 'B' 'e' 'f'\n",
            " 'o' 'r' 'e' ' ' 'w' 'e' ' ' 'p' 'r' 'o' 'c' 'e' 'e' 'd' ' ' 'a' 'n' 'y'\n",
            " ' ' 'f' 'u' 'r' 't' 'h' 'e' 'r' ',' ' ' 'h' 'e' 'a' 'r' ' ' 'm' 'e' ' '\n",
            " 's' 'p' 'e' 'a' 'k' '.' '\\n' '\\n' 'A' 'l' 'l' ':' '\\n' 'S' 'p' 'e' 'a'\n",
            " 'k' ',' ' ' 's' 'p' 'e' 'a' 'k' '.' '\\n' '\\n' 'F' 'i' 'r' 's' 't' ' ' 'C'\n",
            " 'i' 't' 'i' 'z' 'e' 'n' ':' '\\n' 'Y' 'o' 'u' ' ']\n",
            "First Citizen:\n",
            "Before we proceed any further, hear me speak.\n",
            "\n",
            "All:\n",
            "Speak, speak.\n",
            "\n",
            "First Citizen:\n",
            "You \n",
            "are all resolved rather to die than to famish?\n",
            "\n",
            "All:\n",
            "Resolved. resolved.\n",
            "\n",
            "First Citizen:\n",
            "First, you k\n"
          ],
          "name": "stdout"
        }
      ]
    },
    {
      "cell_type": "code",
      "metadata": {
        "colab": {
          "base_uri": "https://localhost:8080/"
        },
        "id": "os5z3_5aZc9t",
        "outputId": "f080f570-3a29-4ff8-f092-2719c96e9717"
      },
      "source": [
        "def split_input_next(sequence):\n",
        "  input_text = sequence[:-1]#x\n",
        "  next_text = sequence[1:]#y\n",
        "  return input_text, next_text\n",
        "split_input_next(list(\"Tensorflow\"))"
      ],
      "execution_count": null,
      "outputs": [
        {
          "output_type": "execute_result",
          "data": {
            "text/plain": [
              "(['T', 'e', 'n', 's', 'o', 'r', 'f', 'l', 'o'],\n",
              " ['e', 'n', 's', 'o', 'r', 'f', 'l', 'o', 'w'])"
            ]
          },
          "metadata": {
            "tags": []
          },
          "execution_count": 105
        }
      ]
    },
    {
      "cell_type": "code",
      "metadata": {
        "colab": {
          "base_uri": "https://localhost:8080/"
        },
        "id": "cXddw-P4apgY",
        "outputId": "82bcfa53-058b-4577-e258-e58a0a7175dc"
      },
      "source": [
        "train_dataset = sequences.map(split_input_next)\n",
        "for input_text, next_text in train_dataset.take(2):\n",
        "  print(\"Input :\", repr(int2text(input_text.numpy())))\n",
        "  print(\"Next:\", repr(int2text(next_text.numpy())))"
      ],
      "execution_count": null,
      "outputs": [
        {
          "output_type": "stream",
          "text": [
            "Input : 'First Citizen:\\nBefore we proceed any further, hear me speak.\\n\\nAll:\\nSpeak, speak.\\n\\nFirst Citizen:\\nYou'\n",
            "Next: 'irst Citizen:\\nBefore we proceed any further, hear me speak.\\n\\nAll:\\nSpeak, speak.\\n\\nFirst Citizen:\\nYou '\n",
            "Input : 'are all resolved rather to die than to famish?\\n\\nAll:\\nResolved. resolved.\\n\\nFirst Citizen:\\nFirst, you '\n",
            "Next: 're all resolved rather to die than to famish?\\n\\nAll:\\nResolved. resolved.\\n\\nFirst Citizen:\\nFirst, you k'\n"
          ],
          "name": "stdout"
        }
      ]
    },
    {
      "cell_type": "code",
      "metadata": {
        "colab": {
          "base_uri": "https://localhost:8080/"
        },
        "id": "j0vF9swpcltW",
        "outputId": "f9ae8e41-cfef-42f9-9052-3ab84959ee0e"
      },
      "source": [
        "# Batch size\n",
        "BATCH_SIZE = 64\n",
        "\n",
        "# Buffer size to shuffle the dataset\n",
        "# (TF data is designed to work with possibly infinite sequences,\n",
        "# so it doesn't attempt to shuffle the entire sequence in memory. Instead,\n",
        "# it maintains a buffer in which it shuffles elements).\n",
        "seed = 10000\n",
        "\n",
        "dataset = train_dataset.shuffle(seed).batch(BATCH_SIZE, drop_remainder=True).prefetch(tf.data.experimental.AUTOTUNE)\n",
        "\n",
        "dataset"
      ],
      "execution_count": null,
      "outputs": [
        {
          "output_type": "execute_result",
          "data": {
            "text/plain": [
              "<PrefetchDataset shapes: ((64, 100), (64, 100)), types: (tf.int64, tf.int64)>"
            ]
          },
          "metadata": {
            "tags": []
          },
          "execution_count": 126
        }
      ]
    },
    {
      "cell_type": "code",
      "metadata": {
        "colab": {
          "base_uri": "https://localhost:8080/"
        },
        "id": "V9mDcg2Zrga6",
        "outputId": "8c6fd58e-06cd-46d8-ba80-a77fa69acbaf"
      },
      "source": [
        "for input_text, target_text in dataset.take(1):\n",
        "    print('1st batch: input_text:', input_text)\n",
        "    print()\n",
        "    print('1st batch: target_text:', target_text)"
      ],
      "execution_count": null,
      "outputs": [
        {
          "output_type": "stream",
          "text": [
            "1st batch: input_text: tf.Tensor(\n",
            "[[ 1 57 53 ... 51 53 59]\n",
            " [21 15 20 ...  1 51 53]\n",
            " [21  1 61 ... 43 41 58]\n",
            " ...\n",
            " [57  1 57 ... 59 56 57]\n",
            " [ 1 54 50 ... 51 53 56]\n",
            " [58 46 43 ... 47 39  8]], shape=(64, 100), dtype=int64)\n",
            "\n",
            "1st batch: target_text: tf.Tensor(\n",
            "[[57 53  1 ... 53 59 57]\n",
            " [15 20 13 ... 51 53 56]\n",
            " [ 1 61 53 ... 41 58 10]\n",
            " ...\n",
            " [ 1 57 53 ... 56 57 58]\n",
            " [54 50 39 ... 53 56 52]\n",
            " [46 43  1 ... 39  8  0]], shape=(64, 100), dtype=int64)\n"
          ],
          "name": "stdout"
        }
      ]
    },
    {
      "cell_type": "code",
      "metadata": {
        "id": "BYcpBj3vsINU"
      },
      "source": [
        "vocab_size = len(vocab)\n",
        "embedding_dim = 256\n",
        "rnn_units = 1024\n",
        "batch_size = BATCH_SIZE\n",
        "\n",
        "def load_model(vocab_size,embedding_dim,rnn_units,batch_size):\n",
        "  model = tf.keras.Sequential()\n",
        "  model.add(tf.keras.layers.Embedding(input_dim=vocab_size,output_dim=embedding_dim,batch_input_shape=[batch_size, None]))\n",
        "  model.add(tf.keras.layers.LSTM(rnn_units,return_sequences=True,stateful=True,recurrent_initializer=tf.keras.initializers.GlorotNormal()))\n",
        "  model.add(tf.keras.layers.Dense(vocab_size))\n",
        "  return model\n",
        "\n"
      ],
      "execution_count": null,
      "outputs": []
    },
    {
      "cell_type": "code",
      "metadata": {
        "colab": {
          "base_uri": "https://localhost:8080/"
        },
        "id": "pXJkzpbui9XU",
        "outputId": "dd00b4b7-e043-4f35-c5f8-33aff1dab0a1"
      },
      "source": [
        "model = load_model(vocab_size = len(vocab),embedding_dim = 256,rnn_units = 1024,batch_size = BATCH_SIZE)\n",
        "model.summary()"
      ],
      "execution_count": null,
      "outputs": [
        {
          "output_type": "stream",
          "text": [
            "Model: \"sequential_5\"\n",
            "_________________________________________________________________\n",
            "Layer (type)                 Output Shape              Param #   \n",
            "=================================================================\n",
            "embedding_5 (Embedding)      (64, None, 256)           16640     \n",
            "_________________________________________________________________\n",
            "lstm_5 (LSTM)                (64, None, 1024)          5246976   \n",
            "_________________________________________________________________\n",
            "dense_5 (Dense)              (64, None, 65)            66625     \n",
            "=================================================================\n",
            "Total params: 5,330,241\n",
            "Trainable params: 5,330,241\n",
            "Non-trainable params: 0\n",
            "_________________________________________________________________\n"
          ],
          "name": "stdout"
        }
      ]
    },
    {
      "cell_type": "code",
      "metadata": {
        "colab": {
          "base_uri": "https://localhost:8080/"
        },
        "id": "gjfbHJ86v3--",
        "outputId": "bc634d09-80a6-4054-a1f0-b89255c057bc"
      },
      "source": [
        "for input_example_batch, target_example_batch in dataset.take(1):\n",
        "    example_batch_predictions = model(input_example_batch)\n",
        "    print(example_batch_predictions.shape, \"# (batch_size, sequence_length, vocab_size)\")"
      ],
      "execution_count": null,
      "outputs": [
        {
          "output_type": "stream",
          "text": [
            "(64, 100, 65) # (batch_size, sequence_length, vocab_size)\n"
          ],
          "name": "stdout"
        }
      ]
    },
    {
      "cell_type": "code",
      "metadata": {
        "colab": {
          "base_uri": "https://localhost:8080/"
        },
        "id": "M24cbd63oxPu",
        "outputId": "ead666b0-cf8a-4316-83ba-bead659297f3"
      },
      "source": [
        "for input_example_batch, target_example_batch in dataset.take(1):\n",
        "    print(input_example_batch)"
      ],
      "execution_count": null,
      "outputs": [
        {
          "output_type": "stream",
          "text": [
            "tf.Tensor(\n",
            "[[42 12  0 ...  1 46 39]\n",
            " [31 21 15 ... 30 53 51]\n",
            " [43 56 47 ... 58  1 57]\n",
            " ...\n",
            " [ 1 51 59 ... 56 43 51]\n",
            " [45 43 39 ... 53 54  1]\n",
            " [ 1 51 53 ... 39 51 43]], shape=(64, 100), dtype=int64)\n"
          ],
          "name": "stdout"
        }
      ]
    },
    {
      "cell_type": "code",
      "metadata": {
        "colab": {
          "base_uri": "https://localhost:8080/",
          "height": 35
        },
        "id": "LscW7rn8aLY1",
        "outputId": "41caed60-9a79-44bb-abd4-d768a49713e9"
      },
      "source": [
        "sampled_indices = tf.random.categorical(example_batch_predictions[0], num_samples=1)\n",
        "sampled_indices = tf.squeeze(sampled_indices, axis=-1).numpy()\n",
        "int2text(sampled_indices)"
      ],
      "execution_count": null,
      "outputs": [
        {
          "output_type": "execute_result",
          "data": {
            "application/vnd.google.colaboratory.intrinsic+json": {
              "type": "string"
            },
            "text/plain": [
              "\"yRNBRyTwRC3,q'3BXJ'o aFe.o&CQOutui?gcU-XeVzVoNKE$PIoYEvSrdrTSXysoQH'RNfg\\nAPdAXh$BVrUqp.VlbNoUIfamiSU\""
            ]
          },
          "metadata": {
            "tags": []
          },
          "execution_count": 222
        }
      ]
    },
    {
      "cell_type": "markdown",
      "metadata": {
        "id": "US-F9quLcGOm"
      },
      "source": [
        "Train"
      ]
    },
    {
      "cell_type": "code",
      "metadata": {
        "id": "GJYNFBP5uEE6"
      },
      "source": [
        "loss = tf.losses.SparseCategoricalCrossentropy(from_logits=True)#非sotmax,預測結果非[0,1]from_logits設為True"
      ],
      "execution_count": null,
      "outputs": []
    },
    {
      "cell_type": "code",
      "metadata": {
        "id": "aghVtWiicHWn"
      },
      "source": [
        "model.compile(optimizer='adam', loss=loss)"
      ],
      "execution_count": null,
      "outputs": []
    },
    {
      "cell_type": "code",
      "metadata": {
        "colab": {
          "base_uri": "https://localhost:8080/"
        },
        "id": "MbOh9gC9cVmB",
        "outputId": "a32c3ee0-06e9-4ce0-cebe-a033aa5cae78"
      },
      "source": [
        "example_batch_loss = loss(target_example_batch, example_batch_predictions)\n",
        "mean_loss = example_batch_loss.numpy().mean()\n",
        "print(\"Prediction shape: \", example_batch_predictions.shape, \" # (batch_size, sequence_length, vocab_size)\")\n",
        "print(\"Mean loss:        \", mean_loss)"
      ],
      "execution_count": null,
      "outputs": [
        {
          "output_type": "stream",
          "text": [
            "Prediction shape:  (64, 100, 65)  # (batch_size, sequence_length, vocab_size)\n",
            "Mean loss:         4.172758\n"
          ],
          "name": "stdout"
        }
      ]
    },
    {
      "cell_type": "code",
      "metadata": {
        "id": "8d3FHK508aem"
      },
      "source": [
        "# Directory where the checkpoints will be saved\n",
        "checkpoint_dir = './training_checkpoints'\n",
        "# Name of the checkpoint files\n",
        "checkpoint_prefix = os.path.join(checkpoint_dir, \"ckpt_{epoch}\")\n",
        "\n",
        "checkpoint_callback = tf.keras.callbacks.ModelCheckpoint(filepath=checkpoint_prefix,save_weights_only=True)"
      ],
      "execution_count": null,
      "outputs": []
    },
    {
      "cell_type": "code",
      "metadata": {
        "id": "dllJUqM_wDe1"
      },
      "source": [
        "ReduceLROnPlateau = tf.keras.callbacks.ReduceLROnPlateau(monitor='loss', factor=0.1, patience=1, verbose=1, mode='auto', min_delta=0.0001, cooldown=0, min_lr=0)"
      ],
      "execution_count": null,
      "outputs": []
    },
    {
      "cell_type": "code",
      "metadata": {
        "colab": {
          "base_uri": "https://localhost:8080/"
        },
        "id": "mHaECEPweCLx",
        "outputId": "2f878915-d777-470f-8f21-ed88a01ddd14"
      },
      "source": [
        "EPOCHS = 20\n",
        "history = model.fit(dataset, epochs=EPOCHS,callbacks=[checkpoint_callback,ReduceLROnPlateau])"
      ],
      "execution_count": null,
      "outputs": [
        {
          "output_type": "stream",
          "text": [
            "Epoch 1/20\n",
            "172/172 [==============================] - 14s 68ms/step - loss: 3.0410\n",
            "Epoch 2/20\n",
            "172/172 [==============================] - 13s 69ms/step - loss: 1.9620\n",
            "Epoch 3/20\n",
            "172/172 [==============================] - 13s 70ms/step - loss: 1.6701\n",
            "Epoch 4/20\n",
            "172/172 [==============================] - 13s 70ms/step - loss: 1.5158\n",
            "Epoch 5/20\n",
            "172/172 [==============================] - 13s 69ms/step - loss: 1.4276\n",
            "Epoch 6/20\n",
            "172/172 [==============================] - 13s 68ms/step - loss: 1.3649\n",
            "Epoch 7/20\n",
            "172/172 [==============================] - 13s 68ms/step - loss: 1.3156\n",
            "Epoch 8/20\n",
            "172/172 [==============================] - 13s 68ms/step - loss: 1.2746\n",
            "Epoch 9/20\n",
            "172/172 [==============================] - 13s 69ms/step - loss: 1.2309\n",
            "Epoch 10/20\n",
            "172/172 [==============================] - 13s 69ms/step - loss: 1.1928\n",
            "Epoch 11/20\n",
            "172/172 [==============================] - 13s 69ms/step - loss: 1.1570\n",
            "Epoch 12/20\n",
            "172/172 [==============================] - 13s 69ms/step - loss: 1.1146\n",
            "Epoch 13/20\n",
            "172/172 [==============================] - 13s 69ms/step - loss: 1.0757\n",
            "Epoch 14/20\n",
            "172/172 [==============================] - 13s 68ms/step - loss: 1.0344\n",
            "Epoch 15/20\n",
            "172/172 [==============================] - 13s 69ms/step - loss: 0.9928\n",
            "Epoch 16/20\n",
            "172/172 [==============================] - 13s 69ms/step - loss: 0.9507\n",
            "Epoch 17/20\n",
            "172/172 [==============================] - 13s 69ms/step - loss: 0.9074\n",
            "Epoch 18/20\n",
            "172/172 [==============================] - 13s 69ms/step - loss: 0.8652\n",
            "Epoch 19/20\n",
            "172/172 [==============================] - 13s 69ms/step - loss: 0.8246\n",
            "Epoch 20/20\n",
            "172/172 [==============================] - 13s 69ms/step - loss: 0.7875\n"
          ],
          "name": "stdout"
        }
      ]
    },
    {
      "cell_type": "code",
      "metadata": {
        "id": "Qfk3js0dzulk"
      },
      "source": [
        "def render_training_history(training_history):\n",
        "    loss = training_history.history['loss']\n",
        "    plt.title('Loss')\n",
        "    plt.xlabel('Epoch')\n",
        "    plt.ylabel('Loss')\n",
        "    plt.plot(loss, label='Training set')\n",
        "    plt.legend()\n",
        "    plt.grid(linestyle='--', linewidth=1, alpha=0.5)\n",
        "    plt.show()"
      ],
      "execution_count": null,
      "outputs": []
    },
    {
      "cell_type": "code",
      "metadata": {
        "colab": {
          "base_uri": "https://localhost:8080/",
          "height": 295
        },
        "id": "x5EZU3wtzwA9",
        "outputId": "ee00e93c-49a2-4bac-dcf2-9f89c90efd17"
      },
      "source": [
        "render_training_history(history)"
      ],
      "execution_count": null,
      "outputs": [
        {
          "output_type": "display_data",
          "data": {
            "image/png": "[encoded data removed]",
            "text/plain": [
              "<Figure size 432x288 with 1 Axes>"
            ]
          },
          "metadata": {
            "tags": [],
            "needs_background": "light"
          }
        }
      ]
    },
    {
      "cell_type": "markdown",
      "metadata": {
        "id": "d3YZ4vhc07Mm"
      },
      "source": [
        "Predition"
      ]
    },
    {
      "cell_type": "markdown",
      "metadata": {
        "id": "zDkptPcI09zG"
      },
      "source": [
        "Load model from checkpoint to predit one batch(one word)"
      ]
    },
    {
      "cell_type": "code",
      "metadata": {
        "colab": {
          "base_uri": "https://localhost:8080/"
        },
        "id": "LpWJmXUd06cU",
        "outputId": "068022de-f70b-4426-f269-9628795fc253"
      },
      "source": [
        "print(f'checkpoint path : {tf.train.latest_checkpoint(checkpoint_dir)}')\n",
        "predit_batch_size = 1\n",
        "model = load_model(vocab_size = len(vocab),embedding_dim = 256,rnn_units = 1024,batch_size = predit_batch_size)\n",
        "model.load_weights(tf.train.latest_checkpoint(checkpoint_dir))\n",
        "model.build(tf.TensorShape([predit_batch_size, None])) #build: 輸入shape，定義viarble的等等"
      ],
      "execution_count": null,
      "outputs": [
        {
          "output_type": "stream",
          "text": [
            "checkpoint path : ./training_checkpoints/ckpt_20\n",
            "WARNING:tensorflow:Unresolved object in checkpoint: (root).optimizer\n",
            "WARNING:tensorflow:Unresolved object in checkpoint: (root).optimizer.iter\n",
            "WARNING:tensorflow:Unresolved object in checkpoint: (root).optimizer.beta_1\n",
            "WARNING:tensorflow:Unresolved object in checkpoint: (root).optimizer.beta_2\n",
            "WARNING:tensorflow:Unresolved object in checkpoint: (root).optimizer.decay\n",
            "WARNING:tensorflow:Unresolved object in checkpoint: (root).optimizer.learning_rate\n",
            "WARNING:tensorflow:Unresolved object in checkpoint: (root).optimizer's state 'm' for (root).layer_with_weights-0.embeddings\n",
            "WARNING:tensorflow:Unresolved object in checkpoint: (root).optimizer's state 'm' for (root).layer_with_weights-2.kernel\n",
            "WARNING:tensorflow:Unresolved object in checkpoint: (root).optimizer's state 'm' for (root).layer_with_weights-2.bias\n",
            "WARNING:tensorflow:Unresolved object in checkpoint: (root).optimizer's state 'm' for (root).layer_with_weights-1.cell.kernel\n",
            "WARNING:tensorflow:Unresolved object in checkpoint: (root).optimizer's state 'm' for (root).layer_with_weights-1.cell.recurrent_kernel\n",
            "WARNING:tensorflow:Unresolved object in checkpoint: (root).optimizer's state 'm' for (root).layer_with_weights-1.cell.bias\n",
            "WARNING:tensorflow:Unresolved object in checkpoint: (root).optimizer's state 'v' for (root).layer_with_weights-0.embeddings\n",
            "WARNING:tensorflow:Unresolved object in checkpoint: (root).optimizer's state 'v' for (root).layer_with_weights-2.kernel\n",
            "WARNING:tensorflow:Unresolved object in checkpoint: (root).optimizer's state 'v' for (root).layer_with_weights-2.bias\n",
            "WARNING:tensorflow:Unresolved object in checkpoint: (root).optimizer's state 'v' for (root).layer_with_weights-1.cell.kernel\n",
            "WARNING:tensorflow:Unresolved object in checkpoint: (root).optimizer's state 'v' for (root).layer_with_weights-1.cell.recurrent_kernel\n",
            "WARNING:tensorflow:Unresolved object in checkpoint: (root).optimizer's state 'v' for (root).layer_with_weights-1.cell.bias\n",
            "WARNING:tensorflow:A checkpoint was restored (e.g. tf.train.Checkpoint.restore or tf.keras.Model.load_weights) but not all checkpointed values were used. See above for specific issues. Use expect_partial() on the load status object, e.g. tf.train.Checkpoint.restore(...).expect_partial(), to silence these warnings, or use assert_consumed() to make the check explicit. See https://www.tensorflow.org/guide/checkpoint#loading_mechanics for details.\n"
          ],
          "name": "stdout"
        }
      ]
    },
    {
      "cell_type": "code",
      "metadata": {
        "id": "iZ_YT4t4eQb9"
      },
      "source": [
        "def generate_text(model,input_word):\n",
        "  num = 1000\n",
        "  temperature = 1.0 #\n",
        "  input_id = tesx2int(input_word)\n",
        "  input_id = tf.expand_dims(input_id, 0)\n",
        "  result = []\n",
        "\n",
        "  model.reset_states()\n",
        "  for i in range(num):\n",
        "    predit = model(input_id) \n",
        "    predit = predit[:,-1,:]\n",
        "    predit = predit / temperature\n",
        "    predit_id = tf.random.categorical(predit, num_samples=1)\n",
        "    input_id = tf.expand_dims(predit_id, 0)\n",
        "    predit_id = tf.squeeze(predit_id, axis=-1).numpy()\n",
        "    predit_id = int2text(tf.constant(predit_id))\n",
        "    result.append(predit_id)\n",
        "  \n",
        "  return print(input_word + ''.join(result))"
      ],
      "execution_count": null,
      "outputs": []
    },
    {
      "cell_type": "code",
      "metadata": {
        "colab": {
          "base_uri": "https://localhost:8080/"
        },
        "id": "GQOa9jsVi5vW",
        "outputId": "0439b02e-7b82-4245-a514-3724ff313b26"
      },
      "source": [
        "generate_text(model, input_word='ROMEO: ')\n"
      ],
      "execution_count": null,
      "outputs": [
        {
          "output_type": "stream",
          "text": [
            "/usr/local/lib/python3.7/dist-packages/ipykernel_launcher.py:4: FutureWarning: Using a non-tuple sequence for multidimensional indexing is deprecated; use `arr[tuple(seq)]` instead of `arr[seq]`. In the future this will be interpreted as an array index, `arr[np.array(seq)]`, which will result either in an error or a different result.\n",
            "  after removing the cwd from sys.path.\n"
          ],
          "name": "stderr"
        },
        {
          "output_type": "stream",
          "text": [
            "ROMEO: -\n",
            "But pheed of man,\n",
            "For the master ribbons, of prover solum.\n",
            "\n",
            "VIRGILIA:\n",
            "Let him, madam with our souls of wark.\n",
            "\n",
            "CAPULET:\n",
            "O princK:\n",
            "For which you please to be my offence?\n",
            "\n",
            "GLOUCESTER:\n",
            "Your bed-calk been have your part, aith: my lady and most\n",
            "villant dowry of any of us at the dept,\n",
            "And shurs his town of kings,\n",
            "That I, no doubt, subtcred and when he comes,\n",
            "And merriers have my daughter would great me\n",
            "Your standing from his grumbling names,--dection of a funeft,\n",
            "so thrive I have: there's no princely brother;\n",
            "And that the one allegiance that might behold my son,\n",
            "It mean not good a sight cried:\n",
            "Who is't with child. Come.\n",
            "\n",
            "AUFIDINUS:\n",
            "If it.\n",
            "\n",
            "PETRUCHIO:\n",
            "Who mess' intend of your hand!\n",
            "How far off, only, my body,\n",
            "Prosperity! thou wouldst be put\n",
            "They grant it, ere my raged it office about the streeth;\n",
            "I never look to deck my talk against\n",
            "Rome.\n",
            "\n",
            "Volsce:\n",
            "Coriolanus banished! thou blook'd both\n",
            "To canst unwillingbushom.\n",
            "\n",
            "Clown:\n",
            "He and men with our noble enemy to thee?\n",
            "Else, for thy daughter, Clarence\n"
          ],
          "name": "stdout"
        }
      ]
    }
  ]
}